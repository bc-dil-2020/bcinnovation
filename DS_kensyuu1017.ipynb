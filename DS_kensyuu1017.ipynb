{
  "nbformat": 4,
  "nbformat_minor": 0,
  "metadata": {
    "kernelspec": {
      "display_name": "Python 3",
      "language": "python",
      "name": "python3"
    },
    "language_info": {
      "codemirror_mode": {
        "name": "ipython",
        "version": 3
      },
      "file_extension": ".py",
      "mimetype": "text/x-python",
      "name": "python",
      "nbconvert_exporter": "python",
      "pygments_lexer": "ipython3",
      "version": "3.7.0"
    },
    "colab": {
      "name": "DS_kensyuu1017.ipynb",
      "provenance": [],
      "include_colab_link": true
    }
  },
  "cells": [
    {
      "cell_type": "markdown",
      "metadata": {
        "id": "view-in-github",
        "colab_type": "text"
      },
      "source": [
        "<a href=\"https://colab.research.google.com/github/bc-dil-2020/bcinnovation/blob/master/DS_kensyuu1017.ipynb\" target=\"_parent\"><img src=\"https://colab.research.google.com/assets/colab-badge.svg\" alt=\"Open In Colab\"/></a>"
      ]
    },
    {
      "cell_type": "markdown",
      "metadata": {
        "id": "L5bWahBV3hZM",
        "colab_type": "text"
      },
      "source": [
        "DS研修資料_191017"
      ]
    },
    {
      "cell_type": "markdown",
      "metadata": {
        "id": "XwoqsbGb3hZO",
        "colab_type": "text"
      },
      "source": [
        "## 偏差値問題をPythonで解く"
      ]
    },
    {
      "cell_type": "code",
      "metadata": {
        "id": "c5OLfxcO3hZP",
        "colab_type": "code",
        "colab": {}
      },
      "source": [
        "import pandas as pd\n",
        "\n",
        "deviation = 0\n",
        "score = pd.Series([100,0])\n",
        "zero = pd.Series(0)\n",
        "\n",
        "while deviation < 1000:\n",
        "    score =  score.append(zero)\n",
        "    deviation = (100 - score.mean()) / score.std(ddof=0) * 10 + 50\n",
        "\n",
        "print(len(score) - 1)"
      ],
      "execution_count": 0,
      "outputs": []
    },
    {
      "cell_type": "markdown",
      "metadata": {
        "id": "V0I2BgXV3hZR",
        "colab_type": "text"
      },
      "source": [
        "## 線形回帰モデルを例にして学習とは何かを理解する\n",
        "\n",
        "## 勾配降下法の実装"
      ]
    },
    {
      "cell_type": "code",
      "metadata": {
        "id": "KnVst89m3hZS",
        "colab_type": "code",
        "colab": {}
      },
      "source": [
        "%matplotlib inline\n",
        "from __future__ import print_function\n",
        "import numpy as np\n",
        "import matplotlib.pyplot as plt"
      ],
      "execution_count": 0,
      "outputs": []
    },
    {
      "cell_type": "code",
      "metadata": {
        "id": "E581t1VX3hZV",
        "colab_type": "code",
        "colab": {}
      },
      "source": [
        "x = np.array([1,2,3,4,5,6,7,8,9,10,11,12])"
      ],
      "execution_count": 0,
      "outputs": []
    },
    {
      "cell_type": "code",
      "metadata": {
        "id": "oXPqkIIZ3hZX",
        "colab_type": "code",
        "colab": {}
      },
      "source": [
        "y = np.array([13,7,26,19,21,17,26,30,39,38,41,55])"
      ],
      "execution_count": 0,
      "outputs": []
    },
    {
      "cell_type": "code",
      "metadata": {
        "id": "9lyDdvF43hZa",
        "colab_type": "code",
        "colab": {}
      },
      "source": [
        "fig = plt.figure()\n",
        "plt.gca().spines['right'].set_visible(False)\n",
        "plt.gca().spines['top'].set_visible(False)\n",
        "ax = fig.add_subplot(1,1,1)\n",
        "ax.scatter(x,y,color = 'orange')"
      ],
      "execution_count": 0,
      "outputs": []
    },
    {
      "cell_type": "markdown",
      "metadata": {
        "id": "aZGONCjk3hZc",
        "colab_type": "text"
      },
      "source": [
        "### 目的関数"
      ]
    },
    {
      "cell_type": "code",
      "metadata": {
        "id": "X7_YEpRS3hZd",
        "colab_type": "code",
        "colab": {}
      },
      "source": [
        "def objective_function(alpha, beta):\n",
        "    error = y - (alpha + x * beta)\n",
        "    squre_error = error**2\n",
        "    sum_of_squre_error  = np.sum(squre_error)\n",
        "    return sum_of_squre_error"
      ],
      "execution_count": 0,
      "outputs": []
    },
    {
      "cell_type": "markdown",
      "metadata": {
        "id": "VN5ET2GO3hZf",
        "colab_type": "text"
      },
      "source": [
        "以下に自身で勾配降下法を実行する関数を作ってみましょう。"
      ]
    },
    {
      "cell_type": "markdown",
      "metadata": {
        "id": "IUcIAlxI3hZg",
        "colab_type": "text"
      },
      "source": [
        "### パラメータで微分する"
      ]
    },
    {
      "cell_type": "code",
      "metadata": {
        "id": "BeVcDt003hZh",
        "colab_type": "code",
        "colab": {}
      },
      "source": [
        "def alpha_deriv(alpha, beta):\n",
        "    return (-2.0 * (y - alpha - beta * x)).sum()\n",
        "\n",
        "def beta_deriv(alpha, beta):\n",
        "    return (-2.0 * x * (y - alpha - beta * x)) .sum()"
      ],
      "execution_count": 0,
      "outputs": []
    },
    {
      "cell_type": "markdown",
      "metadata": {
        "id": "Oeb_3B9J3hZj",
        "colab_type": "text"
      },
      "source": [
        "### 勾配降下法で線形回帰モデルのパラメータを推定\n",
        "途中経過をcost_historyとして保存して出力"
      ]
    },
    {
      "cell_type": "code",
      "metadata": {
        "id": "4HJMWKiu3hZm",
        "colab_type": "code",
        "colab": {}
      },
      "source": [
        "def my_liner_reg_gd(init_alpha, init_beta, learning_rate, max_iteration):\n",
        "    cost_history = []\n",
        "    first_y_score = objective_function(init_alpha,init_beta)\n",
        "    cost_history.append(first_y_score)\n",
        "    current_alpha = init_alpha\n",
        "    current_beta = init_beta\n",
        "    for i in range(max_iteration):\n",
        "        next_alpha = current_alpha + (-1) * alpha_deriv(current_alpha,current_beta) * learning_rate\n",
        "        next_beta = current_beta + (-1) * beta_deriv(current_alpha,current_beta) * learning_rate\n",
        "        current_alpha = next_alpha\n",
        "        current_beta = next_beta\n",
        "        current_y = objective_function(current_alpha,current_beta)\n",
        "        cost_history.append(current_y)\n",
        "    estimated_alpha = current_alpha\n",
        "    estimated_beta = current_beta\n",
        "    return cost_history,estimated_alpha,estimated_beta\n",
        "    "
      ],
      "execution_count": 0,
      "outputs": []
    },
    {
      "cell_type": "code",
      "metadata": {
        "id": "nyakAHFC3hZp",
        "colab_type": "code",
        "colab": {}
      },
      "source": [
        "cost_history, estimated_alpha, estimated_beta = my_liner_reg_gd(\n",
        "    init_alpha=10, init_beta= 1, learning_rate=0.001, max_iteration=1000)\n",
        "\n",
        "plt.gca().spines['right'].set_visible(False)\n",
        "plt.gca().spines['top'].set_visible(False)\n",
        "plt.plot(cost_history,color = 'orange')\n",
        "print(\"Estimated alpha: \", estimated_alpha)\n",
        "print(\"Estimated beta: \", estimated_beta)\n",
        "fig = plt.figure()\n",
        "ax = fig.add_subplot(1, 1, 1)\n",
        "plt.gca().spines['right'].set_visible(False)\n",
        "plt.gca().spines['top'].set_visible(False)\n",
        "ax.scatter(x,y,color = 'orange')\n",
        "ax.plot(x, estimated_beta * x + estimated_alpha, 'r-')"
      ],
      "execution_count": 0,
      "outputs": []
    },
    {
      "cell_type": "code",
      "metadata": {
        "id": "PYj-B6Bp3hZt",
        "colab_type": "code",
        "colab": {}
      },
      "source": [
        "from sklearn import linear_model\n",
        "clf = linear_model.LinearRegression()"
      ],
      "execution_count": 0,
      "outputs": []
    },
    {
      "cell_type": "code",
      "metadata": {
        "scrolled": true,
        "id": "a6vJsx_k3hZv",
        "colab_type": "code",
        "colab": {}
      },
      "source": [
        "# 予測モデルを作成\n",
        "x_2 = x.reshape(-1,1)\n",
        "y_2 = y.reshape(-1,1)\n",
        "clf.fit(x_2, y_2)\n",
        " \n",
        "#結果を出力\n",
        "print('coefficient = ', clf.coef_[0,0]) # 回帰係数\n",
        "print('intercept = ', clf.intercept_[0]) # 切片(誤差)\n",
        "print('score = ', clf.score(x_2, y_2)) # 決定係数"
      ],
      "execution_count": 0,
      "outputs": []
    }
  ]
}